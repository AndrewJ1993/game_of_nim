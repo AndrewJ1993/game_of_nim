{
 "cells": [
  {
   "cell_type": "code",
   "execution_count": 4,
   "metadata": {},
   "outputs": [],
   "source": [
    "import functools\n",
    "import random"
   ]
  },
  {
   "cell_type": "code",
   "execution_count": 5,
   "metadata": {},
   "outputs": [],
   "source": [
    "def play_nim(piles):\n",
    "    nim_sum = functools.reduce(lambda x, y: x ^ y, piles)\n",
    "    \n",
    "    if nim_sum == 0:\n",
    "        print('I think I might lose')\n",
    "        pile = random.randint(0, len(piles)-1)\n",
    "        return (pile, random.randint(0 ,piles[pile]))\n",
    "    \n",
    "    for index, pile in enumerate(piles):\n",
    "        target_size = pile ^ nim_sum\n",
    "        if target_size < pile:\n",
    "            amount_to_remove = pile - target_size\n",
    "            return index, amount_to_remove\n",
    "        \n",
    "\n",
    "def judge_winner(player, piles):\n",
    "    if len(piles) == 0:\n",
    "        print('Player ' + player + ' wins.')\n",
    "        return True"
   ]
  },
  {
   "cell_type": "code",
   "execution_count": null,
   "metadata": {},
   "outputs": [
    {
     "name": "stdout",
     "output_type": "stream",
     "text": [
      "current state of piles: \n",
      "[5, 4, 4, 2, 8]\n",
      "Advice to human: \n",
      "(4, 1)\n",
      "Make your move (pile,number to take): 4,1\n",
      "[4, 1]\n",
      "Computer talking: \n",
      "I think I might lose\n",
      "(4, 6)\n",
      "current state of piles: \n",
      "[5, 4, 4, 2, 1]\n",
      "Advice to human: \n",
      "(0, 2)\n",
      "Make your move (pile,number to take): 0,2\n",
      "[0, 2]\n",
      "Computer talking: \n",
      "I think I might lose\n",
      "(2, 1)\n",
      "current state of piles: \n",
      "[3, 4, 3, 2, 1]\n",
      "Advice to human: \n",
      "(1, 1)\n",
      "Make your move (pile,number to take): 1,1\n",
      "[1, 1]\n",
      "Computer talking: \n",
      "I think I might lose\n",
      "(4, 1)\n",
      "current state of piles: \n",
      "[3, 3, 3, 2]\n",
      "Advice to human: \n",
      "(0, 1)\n"
     ]
    }
   ],
   "source": [
    "# Determines who goes first.\n",
    "turn = random.randint(1, 2)\n",
    "# Creates number of piles with random numbers in each pile\n",
    "in_piles = [random.randint(1, 10) for x in range(random.randint(3, 5))]\n",
    "while True:\n",
    "    if turn % 2 == 1:\n",
    "        print('current state of piles: ')\n",
    "        print(in_piles)\n",
    "        print('Advice to human: ')\n",
    "        print(play_nim(in_piles))\n",
    "        human_move = [int(x) for x in input('Make your move (pile,number to take): ').split(',')]\n",
    "        print(human_move)\n",
    "        # if the human tries to take more than the current amount of counters in a pile, all\n",
    "        # counters from the pile will be taken, removing the pile from the game.\n",
    "        if human_move[1] >= in_piles[human_move[0]]:\n",
    "            human_move[1] = in_piles[human_move[0]]\n",
    "            del in_piles[human_move[0]]\n",
    "        else:\n",
    "            in_piles[human_move[0]] -= human_move[1]\n",
    "            \n",
    "        if judge_winner(\"1\", in_piles):\n",
    "            break\n",
    "\n",
    "    else:\n",
    "        print('Computer talking: ')\n",
    "        computer_move = play_nim(in_piles)\n",
    "        print(computer_move)\n",
    "        if in_piles[computer_move[0]] - computer_move[1] == 0:\n",
    "            del in_piles[computer_move[0]]\n",
    "        else:\n",
    "            in_piles[computer_move[0]] -= computer_move[1]\n",
    "            \n",
    "        if judge_winner(\"2\", in_piles):\n",
    "            break\n",
    "            \n",
    "    turn += 1\n",
    "\n",
    "    \n",
    "    \n",
    "        \n",
    "\n",
    "    "
   ]
  },
  {
   "cell_type": "code",
   "execution_count": null,
   "metadata": {},
   "outputs": [],
   "source": []
  },
  {
   "cell_type": "code",
   "execution_count": null,
   "metadata": {},
   "outputs": [],
   "source": []
  }
 ],
 "metadata": {
  "kernelspec": {
   "display_name": "Python 3",
   "language": "python",
   "name": "python3"
  },
  "language_info": {
   "codemirror_mode": {
    "name": "ipython",
    "version": 3
   },
   "file_extension": ".py",
   "mimetype": "text/x-python",
   "name": "python",
   "nbconvert_exporter": "python",
   "pygments_lexer": "ipython3",
   "version": "3.8.5"
  }
 },
 "nbformat": 4,
 "nbformat_minor": 4
}
